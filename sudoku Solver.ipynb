{
 "cells": [
  {
   "cell_type": "code",
   "execution_count": 1,
   "metadata": {},
   "outputs": [],
   "source": [
    "import numpy as np"
   ]
  },
  {
   "cell_type": "code",
   "execution_count": 2,
   "metadata": {},
   "outputs": [],
   "source": [
    "grid = [[0,8,0,6,4,0,0,0,7],\n",
    "        [7,6,0,5,3,0,9,0,0],\n",
    "        [0,0,0,0,2,7,0,0,3],\n",
    "        [1,4,0,9,6,2,0,7,0],\n",
    "        [2,0,0,3,7,0,0,0,1],\n",
    "        [0,7,0,0,8,0,4,2,9],\n",
    "        [5,1,0,0,9,6,8,0,0],\n",
    "        [0,0,0,0,0,8,7,0,5],\n",
    "        [0,0,0,7,0,0,0,9,6]]"
   ]
  },
  {
   "cell_type": "code",
   "execution_count": 3,
   "metadata": {},
   "outputs": [
    {
     "name": "stdout",
     "output_type": "stream",
     "text": [
      "[[3 8 1 6 4 9 2 5 7]\n",
      " [7 6 2 5 3 1 9 8 4]\n",
      " [4 5 9 8 2 7 6 1 3]\n",
      " [1 4 5 9 6 2 3 7 8]\n",
      " [2 9 8 3 7 4 5 6 1]\n",
      " [6 7 3 1 8 5 4 2 9]\n",
      " [5 1 7 4 9 6 8 3 2]\n",
      " [9 3 6 2 1 8 7 4 5]\n",
      " [8 2 4 7 5 3 1 9 6]]\n",
      "More possible sollutions\n"
     ]
    }
   ],
   "source": [
    "def possible(row, column, number):\n",
    "    global grid\n",
    "    for i in range (0,9):\n",
    "        if grid[row][i] == number:\n",
    "            return False\n",
    "    for i in range (0,9):    \n",
    "        if grid[i][column] == number:\n",
    "            return False\n",
    "    x0 = (column // 3) * 3\n",
    "    y0 = (row // 3) * 3\n",
    "    for i in range(0,3):\n",
    "        for j in range(0,3):\n",
    "            if grid[y0+i][x0+j] == number:\n",
    "                return False\n",
    "    return True\n",
    "def solve():\n",
    "    global grid\n",
    "    for row in range(0,9):\n",
    "        for column in range(0,9):\n",
    "            if grid[row][column] == 0:\n",
    "                for number in range (1,10):\n",
    "                    if possible(row, column, number):\n",
    "                        grid[row][column] = number\n",
    "                        solve()\n",
    "                        grid[row][column] = 0\n",
    "                return\n",
    "    print(np.matrix(grid))\n",
    "    input(\"More possible sollutions\")\n",
    "solve()"
   ]
  },
  {
   "cell_type": "code",
   "execution_count": null,
   "metadata": {},
   "outputs": [],
   "source": []
  }
 ],
 "metadata": {
  "kernelspec": {
   "display_name": "Python 3",
   "language": "python",
   "name": "python3"
  },
  "language_info": {
   "codemirror_mode": {
    "name": "ipython",
    "version": 3
   },
   "file_extension": ".py",
   "mimetype": "text/x-python",
   "name": "python",
   "nbconvert_exporter": "python",
   "pygments_lexer": "ipython3",
   "version": "3.8.8"
  }
 },
 "nbformat": 4,
 "nbformat_minor": 4
}
